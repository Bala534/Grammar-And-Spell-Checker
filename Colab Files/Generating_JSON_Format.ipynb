{
  "nbformat": 4,
  "nbformat_minor": 0,
  "metadata": {
    "colab": {
      "name": "Generating JSON Format",
      "provenance": [],
      "collapsed_sections": []
    },
    "kernelspec": {
      "name": "python3",
      "display_name": "Python 3"
    },
    "language_info": {
      "name": "python"
    }
  },
  "cells": [
    {
      "cell_type": "code",
      "metadata": {
        "id": "RiwqGTg_WZAc"
      },
      "source": [
        "input_lines = []\n",
        "output_lines = []\n"
      ],
      "execution_count": null,
      "outputs": []
    },
    {
      "cell_type": "code",
      "metadata": {
        "id": "AwBrmZlpBE_Y"
      },
      "source": [
        "def findnth(haystack, needle, n):\n",
        "  parts= haystack.split(needle, n+1)\n",
        "  if len(parts)<=n+1:\n",
        "    return -1\n",
        "  return len(haystack)-len(parts[-1])-len(needle)"
      ],
      "execution_count": null,
      "outputs": []
    },
    {
      "cell_type": "code",
      "metadata": {
        "colab": {
          "base_uri": "https://localhost:8080/"
        },
        "id": "nntpvYNfWd6X",
        "outputId": "c303f2ad-0329-4a8e-96e5-85ededfe383d"
      },
      "source": [
        "with open(\"input.txt\") as file_in:\n",
        "  for line in file_in:\n",
        "    input_lines.append(line)\n",
        "print(input_lines)\n",
        "\n",
        "with open(\"ABCDN.test.bea19.corr\") as file_in:\n",
        "  for line in file_in:\n",
        "    output_lines.append(line)\n",
        "print(output_lines)"
      ],
      "execution_count": null,
      "outputs": [
        {
          "output_type": "stream",
          "text": [
            "['Bitcoin is launched using blockchain technology . \\n', \"It 's the first application of public blockchain .\\n\", 'Ripple , a permissioned blockchain is launched .\\n', 'Ethereum , an open permissionless blockchain , is described in a white paper by Vitalik Buterin , a programmer involved with Bitcoin Magazine .\\n', 'Initial release of Ethereum , an open - source , public , blockchain - based distributed computing platform and operating system featuring smart contract ( scripting ) functionality .\\n', 'Linux foundation announces the creation of the Hyperledger Project , a permissioned open - source blockchain .']\n",
            "['Bitcoin was launched using blockchain technology .\\n', \"It 's the first application of a public blockchain .\\n\", 'Ripple , a permissioned blockchain was launched .\\n', 'Ethereum , an open permissionless blockchain , is described in a white paper by Vitalik Buterin , a programmer involved with Bitcoin Magazine .\\n', 'Initial release of Ethereum , an open - source , public , blockchain - based distributed computing platform and operating system featuring smart contract ( scripting ) functionality .\\n', 'The Linux foundation announces the creation of the Hyperledger Project , a permissioned open - source blockchain .']\n"
          ],
          "name": "stdout"
        }
      ]
    },
    {
      "cell_type": "code",
      "metadata": {
        "colab": {
          "base_uri": "https://localhost:8080/"
        },
        "id": "8DwZCqQAYlzi",
        "outputId": "002ec9e2-974e-4a40-c47e-d9e1d70d542c"
      },
      "source": [
        "import re\n",
        "\n",
        "source_lines = []\n",
        "corrected_lines = []\n",
        "start_indices = []\n",
        "end_indices = []\n",
        "corrected_words = []\n",
        "\n",
        "\n",
        "\n",
        "for i in range(len(input_lines)):\n",
        "  input_line = input_lines[i]\n",
        "  output_line = output_lines[i]\n",
        "  current_input_words = input_line.split()\n",
        "  current_output_words = output_line.split()\n",
        "  if len(input_line) > len(output_line):\n",
        "    pass\n",
        "  elif len(output_line) > len(input_line):\n",
        "    pass\n",
        "  else:\n",
        "    for i, word in enumerate(current_input_words):\n",
        "      if current_output_words[i] != word:\n",
        "        corrected_words.append(current_output_words[i])\n",
        "\n",
        "\n",
        "\n",
        "corrected_words\n"
      ],
      "execution_count": null,
      "outputs": [
        {
          "output_type": "execute_result",
          "data": {
            "text/plain": [
              "['was']"
            ]
          },
          "metadata": {
            "tags": []
          },
          "execution_count": 21
        }
      ]
    },
    {
      "cell_type": "code",
      "metadata": {
        "id": "88t07yP997vF"
      },
      "source": [
        "\n"
      ],
      "execution_count": null,
      "outputs": []
    },
    {
      "cell_type": "code",
      "metadata": {
        "colab": {
          "base_uri": "https://localhost:8080/"
        },
        "id": "noS7B78ob6B4",
        "outputId": "882d256c-c313-4e92-b98a-b5c0d0fecdcd"
      },
      "source": [
        "inp"
      ],
      "execution_count": null,
      "outputs": [
        {
          "output_type": "execute_result",
          "data": {
            "text/plain": [
              "['Bitcoin is launched using blockchain technology . \\n',\n",
              " \"It 's the first application of public blockchain .\\n\",\n",
              " 'Ripple , a permissioned blockchain is launched .\\n',\n",
              " 'Linux foundation announces the creation of the Hyperledger Project , a permissioned open - source blockchain .']"
            ]
          },
          "metadata": {
            "tags": []
          },
          "execution_count": 77
        }
      ]
    },
    {
      "cell_type": "code",
      "metadata": {
        "colab": {
          "base_uri": "https://localhost:8080/"
        },
        "id": "8r_THFIIdVC8",
        "outputId": "b076d4a2-5a71-4867-a44c-6f55721d298c"
      },
      "source": [
        "oup"
      ],
      "execution_count": null,
      "outputs": [
        {
          "output_type": "execute_result",
          "data": {
            "text/plain": [
              "['Bitcoin was launched using blockchain technology .\\n',\n",
              " \"It 's the first application of a public blockchain .\\n\",\n",
              " 'Ripple , a permissioned blockchain was launched .\\n',\n",
              " 'The Linux foundation announces the creation of the Hyperledger Project , a permissioned open - source blockchain .']"
            ]
          },
          "metadata": {
            "tags": []
          },
          "execution_count": 78
        }
      ]
    },
    {
      "cell_type": "code",
      "metadata": {
        "id": "WGR1BYhkdWBf"
      },
      "source": [
        "import json\n",
        "final_output = {}"
      ],
      "execution_count": null,
      "outputs": []
    },
    {
      "cell_type": "code",
      "metadata": {
        "colab": {
          "base_uri": "https://localhost:8080/"
        },
        "id": "lyPGaeNcdfNO",
        "outputId": "81a4a739-2b25-4d86-848a-cb4c59822a39"
      },
      "source": [
        "for i in tod:\n",
        "  print(i)"
      ],
      "execution_count": null,
      "outputs": [
        {
          "output_type": "stream",
          "text": [
            "['was']\n",
            "['a']\n",
            "['was']\n",
            "['The']\n"
          ],
          "name": "stdout"
        }
      ]
    }
  ]
}